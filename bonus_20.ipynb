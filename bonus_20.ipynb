{
 "cells": [
  {
   "cell_type": "markdown",
   "id": "e8c57eb5",
   "metadata": {},
   "source": [
    "The following questions reference the students data structure below.\n",
    "\n",
    "How many types of each pet are there?\n",
    "How many grades does each student have? Do they all have the same number of grades?\n",
    "\n",
    "How many pets does each student have?\n",
    "How many students are in web development? data science?\n",
    "What is the average number of pets for students in web development?\n",
    "What is the average pet age for students in data science?\n",
    "What is most frequent coffee preference for data science students?\n",
    "What is the least frequent coffee preference for web development students?\n",
    "What is the average grade for students with at least 2 pets?\n",
    "How many students have 3 pets?\n",
    "What is the average grade for students with 0 pets?\n",
    "What is the average grade for web development students? data science students?\n",
    "What is the average grade range (i.e. highest grade - lowest grade) for dark coffee drinkers?\n",
    "What is the average number of pets for medium coffee drinkers?\n",
    "What is the most common type of pet for web development students?\n",
    "What is the average name length?\n",
    "What is the highest pet age for light coffee drinkers?"
   ]
  },
  {
   "cell_type": "code",
   "execution_count": 2,
   "id": "440cf26a",
   "metadata": {},
   "outputs": [],
   "source": [
    "students = [\n",
    "    {\n",
    "        \"id\": \"100001\",\n",
    "        \"student\": \"Ada Lovelace\",\n",
    "        \"coffee_preference\": \"light\",\n",
    "        \"course\": \"web development\",\n",
    "        \"grades\": [70, 91, 82, 71],\n",
    "        \"pets\": [{\"species\": \"horse\", \"age\": 8}],\n",
    "    },\n",
    "    {\n",
    "        \"id\": \"100002\",\n",
    "        \"student\": \"Thomas Bayes\",\n",
    "        \"coffee_preference\": \"medium\",\n",
    "        \"course\": \"data science\",\n",
    "        \"grades\": [75, 73, 86, 100],\n",
    "        \"pets\": [],\n",
    "    },\n",
    "    {\n",
    "        \"id\": \"100003\",\n",
    "        \"student\": \"Marie Curie\",\n",
    "        \"coffee_preference\": \"light\",\n",
    "        \"course\": \"web development\",\n",
    "        \"grades\": [70, 89, 69, 65],\n",
    "        \"pets\": [{\"species\": \"cat\", \"age\": 0}],\n",
    "    },\n",
    "    {\n",
    "        \"id\": \"100004\",\n",
    "        \"student\": \"Grace Hopper\",\n",
    "        \"coffee_preference\": \"dark\",\n",
    "        \"course\": \"data science\",\n",
    "        \"grades\": [73, 66, 83, 92],\n",
    "        \"pets\": [{\"species\": \"dog\", \"age\": 4}, {\"species\": \"cat\", \"age\": 4}],\n",
    "    },\n",
    "    {\n",
    "        \"id\": \"100005\",\n",
    "        \"student\": \"Alan Turing\",\n",
    "        \"coffee_preference\": \"dark\",\n",
    "        \"course\": \"web development\",\n",
    "        \"grades\": [78, 98, 85, 65],\n",
    "        \"pets\": [\n",
    "            {\"species\": \"horse\", \"age\": 6},\n",
    "            {\"species\": \"horse\", \"age\": 7},\n",
    "            {\"species\": \"dog\", \"age\": 5},\n",
    "        ],\n",
    "    },\n",
    "    {\n",
    "        \"id\": \"100006\",\n",
    "        \"student\": \"Rosalind Franklin\",\n",
    "        \"coffee_preference\": \"dark\",\n",
    "        \"course\": \"data science\",\n",
    "        \"grades\": [76, 70, 96, 81],\n",
    "        \"pets\": [],\n",
    "    },\n",
    "    {\n",
    "        \"id\": \"100007\",\n",
    "        \"student\": \"Elizabeth Blackwell\",\n",
    "        \"coffee_preference\": \"dark\",\n",
    "        \"course\": \"web development\",\n",
    "        \"grades\": [69, 94, 89, 86],\n",
    "        \"pets\": [{\"species\": \"cat\", \"age\": 10}],\n",
    "    },\n",
    "    {\n",
    "        \"id\": \"100008\",\n",
    "        \"student\": \"Rene Descartes\",\n",
    "        \"coffee_preference\": \"medium\",\n",
    "        \"course\": \"data science\",\n",
    "        \"grades\": [87, 79, 90, 99],\n",
    "        \"pets\": [{\"species\": \"cat\", \"age\": 10}, {\"species\": \"cat\", \"age\": 8}],\n",
    "    },\n",
    "    {\n",
    "        \"id\": \"100009\",\n",
    "        \"student\": \"Ahmed Zewail\",\n",
    "        \"coffee_preference\": \"medium\",\n",
    "        \"course\": \"data science\",\n",
    "        \"grades\": [74, 99, 93, 89],\n",
    "        \"pets\": [{\"species\": \"cat\", \"age\": 0}, {\"species\": \"cat\", \"age\": 0}],\n",
    "    },\n",
    "    {\n",
    "        \"id\": \"100010\",\n",
    "        \"student\": \"Chien-Shiung Wu\",\n",
    "        \"coffee_preference\": \"medium\",\n",
    "        \"course\": \"web development\",\n",
    "        \"grades\": [82, 92, 91, 65],\n",
    "        \"pets\": [{\"species\": \"cat\", \"age\": 8}],\n",
    "    },\n",
    "    {\n",
    "        \"id\": \"100011\",\n",
    "        \"student\": \"William Sanford Nye\",\n",
    "        \"coffee_preference\": \"dark\",\n",
    "        \"course\": \"data science\",\n",
    "        \"grades\": [70, 92, 65, 99],\n",
    "        \"pets\": [{\"species\": \"cat\", \"age\": 8}, {\"species\": \"cat\", \"age\": 5}],\n",
    "    },\n",
    "    {\n",
    "        \"id\": \"100012\",\n",
    "        \"student\": \"Carl Sagan\",\n",
    "        \"coffee_preference\": \"medium\",\n",
    "        \"course\": \"data science\",\n",
    "        \"grades\": [100, 86, 91, 87],\n",
    "        \"pets\": [{\"species\": \"cat\", \"age\": 10}],\n",
    "    },\n",
    "    {\n",
    "        \"id\": \"100013\",\n",
    "        \"student\": \"Jane Goodall\",\n",
    "        \"coffee_preference\": \"light\",\n",
    "        \"course\": \"web development\",\n",
    "        \"grades\": [80, 70, 68, 98],\n",
    "        \"pets\": [{\"species\": \"horse\", \"age\": 4}],\n",
    "    },\n",
    "    {\n",
    "        \"id\": \"100014\",\n",
    "        \"student\": \"Richard Feynman\",\n",
    "        \"coffee_preference\": \"medium\",\n",
    "        \"course\": \"web development\",\n",
    "        \"grades\": [73, 99, 86, 98],\n",
    "        \"pets\": [{\"species\": \"dog\", \"age\": 6}],\n",
    "    },\n",
    "]"
   ]
  },
  {
   "cell_type": "markdown",
   "id": "be1d1e0a",
   "metadata": {},
   "source": [
    "How many students are there?"
   ]
  },
  {
   "cell_type": "code",
   "execution_count": 14,
   "id": "f30d3a5b",
   "metadata": {},
   "outputs": [
    {
     "data": {
      "text/plain": [
       "14"
      ]
     },
     "execution_count": 14,
     "metadata": {},
     "output_type": "execute_result"
    }
   ],
   "source": [
    "len(students)"
   ]
  },
  {
   "cell_type": "markdown",
   "id": "2caa61d8",
   "metadata": {},
   "source": [
    "How many students prefer light coffee? For each type of coffee roast?"
   ]
  },
  {
   "cell_type": "code",
   "execution_count": 61,
   "id": "954cbbbb",
   "metadata": {},
   "outputs": [
    {
     "name": "stdout",
     "output_type": "stream",
     "text": [
      "3 students prefer light.\n",
      "6 students prefer medium.\n",
      "5 students prefer dark.\n"
     ]
    }
   ],
   "source": [
    "light_coffee_preference = 0\n",
    "medium_coffee_preference = 0\n",
    "dark_coffee_preference = 0\n",
    "for len in range(len(students)):\n",
    "    if students[len][\"coffee_preference\"] == \"light\":\n",
    "        light_coffee_preference += 1\n",
    "    elif students[len][\"coffee_preference\"] == \"medium\":\n",
    "        medium_coffee_preference += 1\n",
    "    else:\n",
    "        dark_coffee_preference += 1\n",
    "print(light_coffee_preference, \"students prefer light.\")\n",
    "print(medium_coffee_preference, \"students prefer medium.\")\n",
    "print(dark_coffee_preference, \"students prefer dark.\")\n"
   ]
  },
  {
   "cell_type": "markdown",
   "id": "95180586",
   "metadata": {},
   "source": [
    "How many types of each pet are there?"
   ]
  },
  {
   "cell_type": "code",
   "execution_count": 9,
   "id": "87d8b25e",
   "metadata": {},
   "outputs": [
    {
     "name": "stdout",
     "output_type": "stream",
     "text": [
      "Total number of different types of pets: 3\n"
     ]
    }
   ],
   "source": [
    "pet_list = []\n",
    "for i in range(len(students)):\n",
    "    for k in range(len(students[i][\"pets\"])):\n",
    "        pet_list.append(students[i][\"pets\"][k]['species'])\n",
    "print(\"Total number of different types of pets:\", len(set(pet_list)))"
   ]
  },
  {
   "cell_type": "code",
   "execution_count": 20,
   "id": "db54dd98",
   "metadata": {},
   "outputs": [
    {
     "name": "stdout",
     "output_type": "stream",
     "text": [
      "Student: Ada Lovelace Grade Average: 78\n",
      "Student: Thomas Bayes Grade Average: 84\n",
      "Student: Marie Curie Grade Average: 73\n",
      "Student: Grace Hopper Grade Average: 78\n",
      "Student: Alan Turing Grade Average: 82\n",
      "Student: Rosalind Franklin Grade Average: 81\n",
      "Student: Elizabeth Blackwell Grade Average: 84\n",
      "Student: Rene Descartes Grade Average: 89\n",
      "Student: Ahmed Zewail Grade Average: 89\n",
      "Student: Chien-Shiung Wu Grade Average: 82\n",
      "Student: William Sanford Nye Grade Average: 82\n",
      "Student: Carl Sagan Grade Average: 91\n",
      "Student: Jane Goodall Grade Average: 79\n",
      "Student: Richard Feynman Grade Average: 89\n"
     ]
    }
   ],
   "source": [
    "#What is each student's grade average?\n",
    "\n",
    "for i in range(len(students)):\n",
    "    print(\"Student:\", students[i][\"student\"],\n",
    "          \"Grade Average:\", round(sum(students[i][\"grades\"])/len(students[i][\"grades\"])))"
   ]
  },
  {
   "cell_type": "code",
   "execution_count": null,
   "id": "188f7f1b",
   "metadata": {},
   "outputs": [],
   "source": []
  },
  {
   "cell_type": "code",
   "execution_count": null,
   "id": "a1830d52",
   "metadata": {},
   "outputs": [],
   "source": []
  }
 ],
 "metadata": {
  "kernelspec": {
   "display_name": "Python 3",
   "language": "python",
   "name": "python3"
  },
  "language_info": {
   "codemirror_mode": {
    "name": "ipython",
    "version": 3
   },
   "file_extension": ".py",
   "mimetype": "text/x-python",
   "name": "python",
   "nbconvert_exporter": "python",
   "pygments_lexer": "ipython3",
   "version": "3.8.8"
  }
 },
 "nbformat": 4,
 "nbformat_minor": 5
}
